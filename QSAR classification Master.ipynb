{
 "cells": [
  {
   "cell_type": "code",
   "execution_count": 11,
   "metadata": {},
   "outputs": [],
   "source": [
    "import os\n",
    "from multiprocessing import Pool\n",
    "import pandas as pd\n",
    "\n",
    "import rdkit, scipy, xgboost, sklearn\n",
    "from rdkit.Chem.Draw import IPythonConsole\n",
    "from rdkit.Chem import PandasTools\n",
    "from rdkit.Chem import AllChem as Chem\n",
    "from rdkit.Chem import DataStructs, Descriptors\n",
    "from rdkit.Chem import MACCSkeys\n",
    "from rdkit import Avalon\n",
    "from rdkit.Avalon import pyAvalonTools\n",
    "\n",
    "from scipy.spatial.distance import *\n",
    "import numpy as np\n",
    "\n",
    "import matplotlib.pyplot as plt\n",
    "%matplotlib inline\n",
    "import seaborn as sns\n",
    "\n",
    "from rdkit.Chem import PandasTools\n",
    "import pandas as pd\n",
    "seed = 1234"
   ]
  },
  {
   "cell_type": "code",
   "execution_count": 53,
   "metadata": {},
   "outputs": [],
   "source": [
    "from xgboost import XGBClassifier\n",
    "from sklearn.svm import SVC\n",
    "from sklearn.ensemble import RandomForestClassifier\n",
    "from sklearn.linear_model import LogisticRegressionCV\n",
    "\n",
    "from sklearn.model_selection import train_test_split, cross_val_score, StratifiedKFold, GridSearchCV, cross_validate\n",
    "from sklearn.preprocessing import StandardScaler\n",
    "from sklearn.pipeline import make_pipeline\n",
    "from sklearn.feature_selection import VarianceThreshold\n",
    "from sklearn.metrics import accuracy_score, cohen_kappa_score, matthews_corrcoef, make_scorer, confusion_matrix\n",
    "\n",
    "import warnings\n",
    "warnings.filterwarnings('ignore')"
   ]
  },
  {
   "cell_type": "code",
   "execution_count": 33,
   "metadata": {},
   "outputs": [
    {
     "name": "stdout",
     "output_type": "stream",
     "text": [
      "       rdkit: 2018.03.3\n",
      "       scipy:     1.1.0\n",
      "       numpy:    1.13.3\n",
      "      pandas:    0.24.2\n",
      "     seaborn:     0.9.0\n",
      "     sklearn:    0.20.1\n",
      "     xgboost:      0.82\n"
     ]
    }
   ],
   "source": [
    "for module in [rdkit, scipy, np, pd, sns, sklearn, xgboost]:\n",
    "    print('{:>12}:{:>10}'.format(module.__name__, module.__version__))\n"
   ]
  },
  {
   "cell_type": "code",
   "execution_count": 103,
   "metadata": {},
   "outputs": [],
   "source": [
    "class Dataset2D:\n",
    "    def __init__(self, data_dir, data_file, y_field=None, id_field=None, ext='sdf'):\n",
    "        file = os.path.join(data_dir, data_file)\n",
    "        self.smiles = []\n",
    "        self.moles = []\n",
    "        self.Y = [] if y_field is not None else None\n",
    "        self.id = []\n",
    "        temp_id = 1\n",
    "        if ext == 'sdf':\n",
    "            suppl = Chem.SDMolSupplier(file, strictParsing=False)\n",
    "            for i in suppl:\n",
    "                if i is None:\n",
    "                    continue\n",
    "                smi = Chem.MolToSmiles(i, isomericSmiles=False)\n",
    "                if smi is not None and smi != '':\n",
    "                    self.smiles.append(smi)\n",
    "                    self.moles.append(i)\n",
    "                    if y_field is not None:\n",
    "                        self.Y.append(i.GetProp(y_field))\n",
    "                    if id_field is not None:\n",
    "                        self.id.append(i.GetProp(id_field))\n",
    "                    else:\n",
    "                        self.id.append('id{:0>5}'.format(temp_id))\n",
    "                        temp_id += 1\n",
    "        \n",
    "        elif ext == 'csv':\n",
    "            df = pd.read_csv(file)\n",
    "            df['moles'] = df['SMILES'].apply(lambda x: Chem.MolFromSmiles(x))\n",
    "            df = df.dropna()\n",
    "            self.smiles = df['SMILES'].tolist()\n",
    "            self.moles = df['moles'].tolist()\n",
    "            self.Y = df[y_field].tolist()\n",
    "            self.id = df[id_field].tolist()\n",
    "            \n",
    "        else:\n",
    "            raise ValueError('file extension not supported!')\n",
    "            \n",
    "                    \n",
    "        assert(len(self.smiles) == len(self.moles) == len(self.id))\n",
    "        if self.Y is not None:\n",
    "            assert(len(self.smiles) == len(self.Y))\n",
    "            self.Y = np.array(self.Y)\n",
    "\n",
    "    \n",
    "    def __getitem__(self, index):\n",
    "        if self.Y is not None:\n",
    "            ret = self.id[index], self.smiles[index], self.moles[index], self.Y[index]\n",
    "        else:\n",
    "            ret = self.id[index], self.smiles[index], self.moles[index]\n",
    "        return ret\n",
    "    \n",
    "    def __len__(self):\n",
    "        return len(self.smiles)\n",
    "    \n",
    "    def __add__(self, other):\n",
    "        pass"
   ]
  },
  {
   "cell_type": "code",
   "execution_count": 166,
   "metadata": {},
   "outputs": [],
   "source": [
    "class DataStructure:\n",
    "    def __init__(self, dataset, feat_fn, y_transforms=None, num_proc=1):\n",
    "        self.dataset = dataset\n",
    "        self.feat_fn = feat_fn\n",
    "        self.Y = dataset.Y\n",
    "        self.id = dataset.id\n",
    "        self.num_proc = num_proc\n",
    "        self.feat_names = []\n",
    "        self.name_to_idx = {}\n",
    "\n",
    "        x_s = []\n",
    "        for fname in self.feat_fn.keys():\n",
    "            f = self.feat_fn[fname]\n",
    "            with Pool(self.num_proc) as p:\n",
    "                arr = np.array(p.map(f, self.dataset.moles))\n",
    "            x_s.append(arr)\n",
    "            length = arr.shape[1]\n",
    "            names = list('{}_{}'.format(fname, x+1) for x in range(length))\n",
    "            self.feat_names += names\n",
    "        x_s = tuple(x_s)\n",
    "        self.X_ = np.concatenate(x_s, axis=1)\n",
    "        # remove any nan rows\n",
    "        nans = np.isnan(self.X_)\n",
    "        mask = np.any(nans, axis=1)\n",
    "        self.X_ = self.X_[~mask, :]\n",
    "        self.name_to_idx = dict(zip(self.feat_names, range(len(self.feat_names))))\n",
    "        \n",
    "        self.id = list(self.id[j] for j in range(len(mask)) if not mask[j])\n",
    "        if self.Y is not None:\n",
    "            self.Y = self.Y[~mask]\n",
    "        if y_transforms is not None:\n",
    "            for t in y_transforms:\n",
    "                self.Y = np.array(list(map(t, self.Y)))\n",
    "    \n",
    "    def __len__(self):\n",
    "        return self.X_.shape[0]\n",
    "    \n",
    "    @property\n",
    "    def shape(self):\n",
    "        return self.X_.shape\n",
    "    \n",
    "    def X(self, feats=None):\n",
    "        '''\n",
    "        Use a list of to select feature columns\n",
    "        '''\n",
    "        if feats is None:\n",
    "            return self.X_\n",
    "        else:\n",
    "            mask = list(map(lambda x: self.name_to_idx[x], feats))\n",
    "            return self.X_[:, mask]"
   ]
  },
  {
   "cell_type": "code",
   "execution_count": 145,
   "metadata": {},
   "outputs": [],
   "source": [
    "class ClassifierContainer:\n",
    "    def __init__(self, name, func, cv_grid, grid_scoring=None, scaler=None,\n",
    "                 grid_params=None, class_weight=None, n_jobs_grid=4, \n",
    "                 random_state=None, **fit_params):\n",
    "        self.name = name\n",
    "        self.scaler = scaler\n",
    "        self.func = func\n",
    "        self.grid_params = grid_params\n",
    "        self.fit_params = fit_params\n",
    "        self.cv_grid = cv_grid\n",
    "        self.n_jobs_grid = n_jobs_grid\n",
    "        self.grid_scoring = grid_scoring\n",
    "        self.grc = None\n",
    "        self.model = func(random_state=random_state, class_weight=class_weight, **fit_params)\n",
    "        if self.grid_params is not None:\n",
    "            self.grc = GridSearchCV(self.model, \n",
    "                                    self.grid_params, n_jobs=self.n_jobs_grid, scoring=self.grid_scoring, \n",
    "                                    cv=self.cv_grid, verbose=1)\n",
    "        self.best_params = None\n",
    "        \n",
    "        \n",
    "    def grid_search(self, X, y):\n",
    "        if self.scaler is not None:\n",
    "            X = self.scaler.fit_transform(X)\n",
    "        self.grc.fit(X, y)\n",
    "        self.best_params = self.grc.best_params_\n",
    "        self.model = self.grc.best_estimator_\n",
    "    \n",
    "    def fit(self, X, y):\n",
    "        if self.scaler is not None:\n",
    "            X = self.scaler.fit_transform(X)\n",
    "        self.model.fit(X, y)\n",
    "        \n",
    "    def predict(self, X):\n",
    "        if self.scaler is not None:\n",
    "            X = self.scaler.transform(X)\n",
    "        return self.model.predict(X)"
   ]
  },
  {
   "cell_type": "code",
   "execution_count": 112,
   "metadata": {},
   "outputs": [],
   "source": [
    "def get_class(y, thres=7.4):\n",
    "    return labels[1] if y >= thres else labels[0]"
   ]
  },
  {
   "cell_type": "code",
   "execution_count": 39,
   "metadata": {},
   "outputs": [],
   "source": [
    "#Morgan fps\n",
    "def morganX(mol, bits=2048, radius=2):\n",
    "    morgan = np.zeros((1, bits))\n",
    "    fp = Chem.GetMorganFingerprintAsBitVect(mol, radius, nBits=bits)\n",
    "    DataStructs.ConvertToNumpyArray(fp, morgan)\n",
    "    return morgan\n",
    "\n",
    "#MACCS\n",
    "def maccsX(mol):\n",
    "    maccs = np.zeros((1,167))\n",
    "    fp = MACCSkeys.GenMACCSKeys(mol)\n",
    "    DataStructs.ConvertToNumpyArray(fp, maccs)\n",
    "    return maccs\n",
    "\n",
    "#Avalon fps\n",
    "def avalonX(mol, avbits=512):\n",
    "    avalon = np.zeros((1, avbits))\n",
    "    fp = pyAvalonTools.GetAvalonFP(mol)\n",
    "    DataStructs.ConvertToNumpyArray(fp, avalon)\n",
    "    return avalon\n",
    "\n",
    "# physchem descriptors\n",
    "def descriptorsX(m):\n",
    "    descr = [Descriptors.ExactMolWt(m),\n",
    "             Descriptors.MolLogP(m),\n",
    "             Descriptors.TPSA(m),\n",
    "             Descriptors.NumHAcceptors(m),\n",
    "             Descriptors.NumHDonors(m),\n",
    "             Descriptors.NumRotatableBonds(m),\n",
    "             Descriptors.NumHeteroatoms(m),\n",
    "             Descriptors.NumAromaticRings(m),\n",
    "             Descriptors.FractionCSP3(m)]\n",
    "    return np.array(descr)"
   ]
  },
  {
   "cell_type": "markdown",
   "metadata": {},
   "source": [
    "### Load dataset"
   ]
  },
  {
   "cell_type": "code",
   "execution_count": 60,
   "metadata": {},
   "outputs": [],
   "source": [
    "model_dir = '.'\n",
    "data_dir = '.'\n",
    "data_file = 'Glycogen.csv'\n",
    "labels = {0: '0', 1: '1'}"
   ]
  },
  {
   "cell_type": "code",
   "execution_count": 140,
   "metadata": {
    "scrolled": false
   },
   "outputs": [],
   "source": [
    "ds = Dataset2D(data_dir, data_file, y_field='pIC50', id_field='CMPD_CHEMBLID', ext='csv')"
   ]
  },
  {
   "cell_type": "code",
   "execution_count": 167,
   "metadata": {},
   "outputs": [
    {
     "name": "stdout",
     "output_type": "stream",
     "text": [
      "CPU times: user 595 ms, sys: 597 ms, total: 1.19 s\n",
      "Wall time: 2.7 s\n"
     ]
    }
   ],
   "source": [
    "%%time\n",
    "data_str = DataStructure(ds, dict(maccs=maccsX, morgan=morganX, avalon=avalonX, phys=descriptorsX), \n",
    "                         num_proc=8, y_transforms=[float, lambda x: get_class(x, thres=7.0)])"
   ]
  },
  {
   "cell_type": "code",
   "execution_count": 171,
   "metadata": {},
   "outputs": [
    {
     "data": {
      "text/plain": [
       "array([[   0.        ,  359.0308981 ],\n",
       "       [   0.        ,  353.1461041 ],\n",
       "       [   0.        ,  384.17706988]])"
      ]
     },
     "execution_count": 171,
     "metadata": {},
     "output_type": "execute_result"
    }
   ],
   "source": [
    "# Select different features\n",
    "data_str.X(['morgan_1', 'phys_1'])[:3,:]"
   ]
  },
  {
   "cell_type": "code",
   "execution_count": 116,
   "metadata": {},
   "outputs": [],
   "source": [
    "# Remove low variance columns\n",
    "sel = VarianceThreshold(threshold=0.0)"
   ]
  },
  {
   "cell_type": "code",
   "execution_count": 172,
   "metadata": {},
   "outputs": [],
   "source": [
    "X = data_str.X()\n",
    "y = data_str.Y\n",
    "X = sel.fit_transform(X)"
   ]
  },
  {
   "cell_type": "code",
   "execution_count": 173,
   "metadata": {},
   "outputs": [],
   "source": [
    "idx_train, idx_test = train_test_split(np.arange(len(data_str)), test_size=0.20, random_state=seed)"
   ]
  },
  {
   "cell_type": "code",
   "execution_count": 174,
   "metadata": {},
   "outputs": [],
   "source": [
    "X_train = X[idx_train]\n",
    "X_test = X[idx_test]\n",
    "y_train = y[idx_train]\n",
    "y_test = y[idx_test]"
   ]
  },
  {
   "cell_type": "code",
   "execution_count": 175,
   "metadata": {},
   "outputs": [
    {
     "data": {
      "text/plain": [
       "(1404, 2598)"
      ]
     },
     "execution_count": 175,
     "metadata": {},
     "output_type": "execute_result"
    }
   ],
   "source": [
    "X_train.shape"
   ]
  },
  {
   "cell_type": "markdown",
   "metadata": {},
   "source": [
    "### All classifiers"
   ]
  },
  {
   "cell_type": "code",
   "execution_count": 121,
   "metadata": {},
   "outputs": [],
   "source": [
    "num_proc = os.cpu_count()"
   ]
  },
  {
   "cell_type": "code",
   "execution_count": 122,
   "metadata": {},
   "outputs": [],
   "source": [
    "cv = StratifiedKFold(n_splits=5, random_state=seed)"
   ]
  },
  {
   "cell_type": "code",
   "execution_count": 123,
   "metadata": {},
   "outputs": [],
   "source": [
    "# Not using X-scaling for RF\n",
    "models = [\n",
    "    ('Random Forest', RandomForestClassifier, None, {\"max_features\": [int(np.sqrt(X_train.shape[1])),\n",
    "                                                                      X_train.shape[1] // 3], \n",
    "              \"n_estimators\": [500, 1000]}, {'criterion': 'entropy', 'oob_score': True, 'n_estimators': 500, 'n_jobs': num_proc}),\n",
    "    \n",
    "    ('SVM Classification', SVC, StandardScaler(), {'C': [1, 5, 10], 'gamma': [0.001, 0.01, 0.1]}, \n",
    "                           {'kernel':'rbf', 'probability':True}),\n",
    "    \n",
    "    ('XGB', XGBClassifier, StandardScaler(), {'max_depth': [4, 6, 8, 10], 'learning_rate': [0.1, 0.05, 0.01],  \n",
    "#                             'colsample_bytree': [1.0, 0.9, 0.8], 'colsample_bylevel': [1.0, 0.9, 0.8]\n",
    "                           }, \n",
    "     {'n_estimators': 2000, 'learning_rate': 0.01, 'max_depth': 8, 'n_jobs': num_proc}),\n",
    "    \n",
    "    ('Logistic Regression', LogisticRegressionCV, StandardScaler(), { 'solver': ['newton-cg', 'lbfgs']}, \n",
    "    {'max_iter': 1000, 'n_jobs': num_proc, 'cv': 5}),\n",
    "]"
   ]
  },
  {
   "cell_type": "code",
   "execution_count": 124,
   "metadata": {},
   "outputs": [
    {
     "name": "stdout",
     "output_type": "stream",
     "text": [
      "Random Forest\n",
      "SVM Classification\n",
      "XGB\n",
      "Logistic Regression\n"
     ]
    }
   ],
   "source": [
    "classifiers = {}\n",
    "for m in models:\n",
    "    name, func, scaler, grid_params, fit_params = m\n",
    "    print(name)\n",
    "    classifier = ClassifierContainer(name, func, cv, grid_params=grid_params, scaler=scaler, n_jobs_grid=8,\n",
    "                            grid_scoring=make_scorer(matthews_corrcoef), class_weight='balanced',\n",
    "                            random_state=seed, **fit_params\n",
    "                           )\n",
    "    classifiers[name] = classifier"
   ]
  },
  {
   "cell_type": "markdown",
   "metadata": {},
   "source": [
    "### Fit the models"
   ]
  },
  {
   "cell_type": "code",
   "execution_count": 125,
   "metadata": {},
   "outputs": [
    {
     "name": "stdout",
     "output_type": "stream",
     "text": [
      "Random Forest\n",
      "SVM Classification\n",
      "XGB\n",
      "Logistic Regression\n"
     ]
    }
   ],
   "source": [
    "MODE = 'Fit'\n",
    "for name in classifiers.keys():\n",
    "    model = classifiers[name]\n",
    "    print(name)\n",
    "    if MODE == 'Grid':\n",
    "        model.grid_search(X_train, y_train)\n",
    "    elif MODE == 'Fit':\n",
    "        model.fit(X_train, y_train)  \n",
    "    else:\n",
    "        raise ValueError('Not valid mode')"
   ]
  },
  {
   "cell_type": "markdown",
   "metadata": {},
   "source": [
    "### Test performance by cross validation"
   ]
  },
  {
   "cell_type": "code",
   "execution_count": 126,
   "metadata": {
    "scrolled": true
   },
   "outputs": [
    {
     "name": "stdout",
     "output_type": "stream",
     "text": [
      "Random Forest\n",
      "SVM Classification\n",
      "XGB\n",
      "Logistic Regression\n"
     ]
    }
   ],
   "source": [
    "cv_cv = StratifiedKFold(n_splits=10, random_state=seed)\n",
    "acc = {}\n",
    "mcc = {}\n",
    "kap ={}\n",
    "\n",
    "for name in classifiers.keys():\n",
    "    print(name)\n",
    "    model = classifiers[name]\n",
    "    scaler = model.scaler\n",
    "    clf = model.model if scaler is None else make_pipeline(scaler, model.model)\n",
    "    cv_result = cross_validate(clf, X, y, cv=cv_cv,\n",
    "                           scoring={'Accuracy': make_scorer(accuracy_score), 'MCC': make_scorer(matthews_corrcoef), \n",
    "                                    'kappa': make_scorer(cohen_kappa_score)},\n",
    "                           return_train_score=True)\n",
    "    acc[name] = cv_result['test_Accuracy']\n",
    "    mcc[name] = cv_result['test_MCC']\n",
    "    kap[name] = cv_result['test_kappa']"
   ]
  },
  {
   "cell_type": "code",
   "execution_count": 127,
   "metadata": {},
   "outputs": [],
   "source": [
    "acc_df = pd.DataFrame(acc)\n",
    "mcc_df = pd.DataFrame(mcc)\n",
    "kap_df = pd.DataFrame(kap)"
   ]
  },
  {
   "cell_type": "code",
   "execution_count": 128,
   "metadata": {},
   "outputs": [
    {
     "data": {
      "image/png": "[encoded data removed]",
      "text/plain": [
       "<Figure size 864x288 with 3 Axes>"
      ]
     },
     "metadata": {},
     "output_type": "display_data"
    }
   ],
   "source": [
    "sns.set(style=\"whitegrid\")\n",
    "fig, axs = plt.subplots(1, 3, figsize=(12, 4))\n",
    "fig.suptitle('10-fold CV', fontsize=14)\n",
    "\n",
    "axs[0].set_title('Accuracy')\n",
    "axs[1].set_title('MCC')\n",
    "axs[2].set_title('kappa')\n",
    "\n",
    "sns.boxplot(data=acc_df, ax=axs[0])\n",
    "sns.boxplot(data=mcc_df, ax=axs[1])\n",
    "sns.boxplot(data=kap_df, ax=axs[2])\n",
    "\n",
    "for ax in axs:\n",
    "    ax.set_xticklabels(ax.get_xticklabels(), rotation=45)\n"
   ]
  },
  {
   "cell_type": "markdown",
   "metadata": {},
   "source": [
    "### Test performance using the test set"
   ]
  },
  {
   "cell_type": "code",
   "execution_count": 129,
   "metadata": {},
   "outputs": [
    {
     "name": "stdout",
     "output_type": "stream",
     "text": [
      "Random Forest\n",
      "Accuracy = 0.83\n",
      "MCC = 0.61\n",
      "Kappa = 0.61\n",
      "------------------------\n",
      "\n",
      "SVM Classification\n",
      "Accuracy = 0.79\n",
      "MCC = 0.56\n",
      "Kappa = 0.55\n",
      "------------------------\n",
      "\n",
      "XGB\n",
      "Accuracy = 0.84\n",
      "MCC = 0.65\n",
      "Kappa = 0.65\n",
      "------------------------\n",
      "\n",
      "Logistic Regression\n",
      "Accuracy = 0.80\n",
      "MCC = 0.57\n",
      "Kappa = 0.56\n",
      "------------------------\n",
      "\n"
     ]
    }
   ],
   "source": [
    "for name in classifiers.keys():\n",
    "    model = classifiers[name]\n",
    "    pred = model.predict(X_test)\n",
    "    print(name)\n",
    "    print(\"Accuracy = {:.2f}\".format(accuracy_score(y_test, pred)))\n",
    "    print(\"MCC = {:.2f}\".format(matthews_corrcoef(y_test, pred)))\n",
    "    print(\"Kappa = {:.2f}\".format(cohen_kappa_score(y_test, pred)))\n",
    "    print('------------------------')\n",
    "    print()"
   ]
  },
  {
   "cell_type": "code",
   "execution_count": 133,
   "metadata": {},
   "outputs": [
    {
     "data": {
      "text/plain": [
       "Text(0.5, 1.0, 'XGB model')"
      ]
     },
     "execution_count": 133,
     "metadata": {},
     "output_type": "execute_result"
    },
    {
     "data": {
      "image/png": "[encoded data removed]",
      "text/plain": [
       "<Figure size 432x288 with 2 Axes>"
      ]
     },
     "metadata": {},
     "output_type": "display_data"
    }
   ],
   "source": [
    "name = 'XGB'\n",
    "clf = classifiers[name]\n",
    "pred_clf = clf.predict(X_test)\n",
    "labs = list(labels.values())\n",
    "cnf_matrix = confusion_matrix(np.asarray(y_test), pred_clf, labels=labs)\n",
    "ax = sns.heatmap(cnf_matrix, annot=True, ax = None, linewidths=.5, cmap=\"YlGnBu\",\n",
    "                xticklabels=list(labels.keys()), yticklabels=labs, fmt='d')\n",
    "\n",
    "ax.set_xlabel('Predicted labels', fontsize=12)\n",
    "ax.set_ylabel('True labels', fontsize=12); \n",
    "ax.set_title('{} model'.format(name), fontsize=15)"
   ]
  }
 ],
 "metadata": {
  "kernelspec": {
   "display_name": "Python 3",
   "language": "python",
   "name": "python3"
  },
  "language_info": {
   "codemirror_mode": {
    "name": "ipython",
    "version": 3
   },
   "file_extension": ".py",
   "mimetype": "text/x-python",
   "name": "python",
   "nbconvert_exporter": "python",
   "pygments_lexer": "ipython3",
   "version": "3.6.8"
  }
 },
 "nbformat": 4,
 "nbformat_minor": 2
}
